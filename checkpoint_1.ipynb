{
  "nbformat": 4,
  "nbformat_minor": 0,
  "metadata": {
    "colab": {
      "name": "checkpoint 1",
      "provenance": []
    },
    "kernelspec": {
      "name": "python3",
      "display_name": "Python 3"
    },
    "language_info": {
      "name": "python"
    }
  },
  "cells": [
    {
      "cell_type": "code",
      "source": [
        "print(\"Welcome to Python world! Let's start coding\")"
      ],
      "metadata": {
        "id": "xkInJM5TprIo",
        "colab": {
          "base_uri": "https://localhost:8080/"
        },
        "outputId": "2aa97732-62d7-4c1e-a8d4-cf48c15391e6"
      },
      "execution_count": null,
      "outputs": [
        {
          "output_type": "stream",
          "name": "stdout",
          "text": [
            "Welcome to Python world! Let's start coding\n"
          ]
        }
      ]
    }
  ]
}